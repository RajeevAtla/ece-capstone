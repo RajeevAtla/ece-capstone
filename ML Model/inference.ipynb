{
 "cells": [
  {
   "cell_type": "code",
   "execution_count": 1,
   "id": "bfab334f-ee19-4bec-b3cf-b83e07f5ef98",
   "metadata": {},
   "outputs": [],
   "source": [
    "from ultralytics import YOLO\n",
    "import json\n",
    "import os\n",
    "import shutil\n",
    "import random\n",
    "import cv2\n",
    "import matplotlib.pyplot as plt"
   ]
  },
  {
   "cell_type": "code",
   "execution_count": 2,
   "id": "109035f4-7739-4736-9e86-96e47f7046e5",
   "metadata": {},
   "outputs": [],
   "source": [
    "json_path = \"annotations.json\"\n",
    "images_dir = \"images\"\n",
    "labels_dir = \"labels\"\n",
    "data_yaml = \"data.yaml\"\n",
    "train_dir = \"dataset/train\"\n",
    "val_dir = \"dataset/val\"\n",
    "os.makedirs(train_dir + \"/images\", exist_ok=True)\n",
    "os.makedirs(train_dir + \"/labels\", exist_ok=True)\n",
    "os.makedirs(val_dir + \"/images\", exist_ok=True)\n",
    "os.makedirs(val_dir + \"/labels\", exist_ok=True)"
   ]
  },
  {
   "cell_type": "code",
   "execution_count": 3,
   "id": "bbe7fe33-99e3-466d-a14a-52359b15e1a0",
   "metadata": {},
   "outputs": [],
   "source": [
    "# Load JSON annotation file\n",
    "with open(json_path, \"r\") as f:\n",
    "    data = json.load(f)\n",
    "\n",
    "file_names = data[\"train\"][\"file_names\"]\n",
    "rois_list = data[\"train\"][\"rois_list\"]\n",
    "occupancy_list = data[\"train\"][\"occupancy_list\"]\n",
    "\n",
    "# Split dataset (80% train, 20% val)\n",
    "data_pairs = list(zip(file_names, rois_list, occupancy_list))\n",
    "random.shuffle(data_pairs)\n",
    "split_idx = int(0.8 * len(data_pairs))\n",
    "train_data = data_pairs[:split_idx]\n",
    "val_data = data_pairs[split_idx:]"
   ]
  },
  {
   "cell_type": "code",
   "execution_count": 4,
   "id": "fcb77d6d",
   "metadata": {},
   "outputs": [],
   "source": [
    "# Function to process and save labels\n",
    "def save_labels(file_name, rois, occupancy, split):\n",
    "    label_path = f\"dataset/{split}/labels/\" + file_name.replace(\".JPG\", \".txt\")\n",
    "    img_path = os.path.join(images_dir, file_name)\n",
    "    shutil.copy(img_path, f\"dataset/{split}/images/\")\n",
    "    \n",
    "    with open(label_path, \"w\") as lf:\n",
    "        for obj, occupied in zip(rois, occupancy):\n",
    "            x_values = [p[0] for p in obj]\n",
    "            y_values = [p[1] for p in obj]\n",
    "            x_center = sum(x_values) / len(x_values)\n",
    "            y_center = sum(y_values) / len(y_values)\n",
    "            width = max(x_values) - min(x_values)\n",
    "            height = max(y_values) - min(y_values)\n",
    "            class_id = 0 if occupied else 1\n",
    "            lf.write(f\"{class_id} {x_center} {y_center} {width} {height}\\n\")\n",
    "\n",
    "# Process all data\n",
    "for file_name, rois, occupancy in train_data:\n",
    "    save_labels(file_name, rois, occupancy, \"train\")\n",
    "for file_name, rois, occupancy in val_data:\n",
    "    save_labels(file_name, rois, occupancy, \"val\")"
   ]
  },
  {
   "cell_type": "code",
   "execution_count": 5,
   "id": "7a13ba27",
   "metadata": {},
   "outputs": [],
   "source": [
    "# Write data.yaml\n",
    "with open(data_yaml, \"w\") as f:\n",
    "    f.write(\"train: dataset/train\\n\")\n",
    "    f.write(\"val: dataset/val\\n\")\n",
    "    f.write(\"nc: 2\\n\")\n",
    "    f.write(\"names: ['car', 'empty']\\n\")"
   ]
  },
  {
   "cell_type": "code",
   "execution_count": 6,
   "id": "7d305317",
   "metadata": {},
   "outputs": [
    {
     "name": "stdout",
     "output_type": "stream",
     "text": [
      "Ultralytics 8.3.81  Python-3.13.2 torch-2.6.0+cpu CPU (Intel Core(TM) i7-8700K 3.70GHz)\n",
      "\u001b[34m\u001b[1mengine\\trainer: \u001b[0mtask=detect, mode=train, model=yolo11n.pt, data=data.yaml, epochs=5, time=None, patience=100, batch=16, imgsz=640, save=True, save_period=-1, cache=False, device=None, workers=8, project=None, name=train25, exist_ok=False, pretrained=True, optimizer=Adam, verbose=True, seed=0, deterministic=True, single_cls=False, rect=False, cos_lr=False, close_mosaic=10, resume=False, amp=True, fraction=1.0, profile=False, freeze=None, multi_scale=False, overlap_mask=True, mask_ratio=4, dropout=0.0, val=True, split=val, save_json=False, save_hybrid=False, conf=None, iou=0.7, max_det=300, half=False, dnn=False, plots=True, source=None, vid_stride=1, stream_buffer=False, visualize=False, augment=False, agnostic_nms=False, classes=None, retina_masks=False, embed=None, show=False, save_frames=False, save_txt=False, save_conf=False, save_crop=False, show_labels=True, show_conf=True, show_boxes=True, line_width=None, format=torchscript, keras=False, optimize=False, int8=False, dynamic=False, simplify=True, opset=None, workspace=None, nms=False, lr0=0.01, lrf=0.01, momentum=0.937, weight_decay=0.0005, warmup_epochs=3.0, warmup_momentum=0.8, warmup_bias_lr=0.1, box=7.5, cls=0.5, dfl=1.5, pose=12.0, kobj=1.0, nbs=64, hsv_h=0.015, hsv_s=0.7, hsv_v=0.4, degrees=0.0, translate=0.1, scale=0.5, shear=0.0, perspective=0.0, flipud=0.0, fliplr=0.5, bgr=0.0, mosaic=1.0, mixup=0.0, copy_paste=0.0, copy_paste_mode=flip, auto_augment=randaugment, erasing=0.4, crop_fraction=1.0, cfg=None, tracker=botsort.yaml, save_dir=runs\\detect\\train25\n",
      "Overriding model.yaml nc=80 with nc=2\n",
      "\n",
      "                   from  n    params  module                                       arguments                     \n",
      "  0                  -1  1       464  ultralytics.nn.modules.conv.Conv             [3, 16, 3, 2]                 \n",
      "  1                  -1  1      4672  ultralytics.nn.modules.conv.Conv             [16, 32, 3, 2]                \n",
      "  2                  -1  1      6640  ultralytics.nn.modules.block.C3k2            [32, 64, 1, False, 0.25]      \n",
      "  3                  -1  1     36992  ultralytics.nn.modules.conv.Conv             [64, 64, 3, 2]                \n",
      "  4                  -1  1     26080  ultralytics.nn.modules.block.C3k2            [64, 128, 1, False, 0.25]     \n",
      "  5                  -1  1    147712  ultralytics.nn.modules.conv.Conv             [128, 128, 3, 2]              \n",
      "  6                  -1  1     87040  ultralytics.nn.modules.block.C3k2            [128, 128, 1, True]           \n",
      "  7                  -1  1    295424  ultralytics.nn.modules.conv.Conv             [128, 256, 3, 2]              \n",
      "  8                  -1  1    346112  ultralytics.nn.modules.block.C3k2            [256, 256, 1, True]           \n",
      "  9                  -1  1    164608  ultralytics.nn.modules.block.SPPF            [256, 256, 5]                 \n",
      " 10                  -1  1    249728  ultralytics.nn.modules.block.C2PSA           [256, 256, 1]                 \n",
      " 11                  -1  1         0  torch.nn.modules.upsampling.Upsample         [None, 2, 'nearest']          \n",
      " 12             [-1, 6]  1         0  ultralytics.nn.modules.conv.Concat           [1]                           \n",
      " 13                  -1  1    111296  ultralytics.nn.modules.block.C3k2            [384, 128, 1, False]          \n",
      " 14                  -1  1         0  torch.nn.modules.upsampling.Upsample         [None, 2, 'nearest']          \n",
      " 15             [-1, 4]  1         0  ultralytics.nn.modules.conv.Concat           [1]                           \n",
      " 16                  -1  1     32096  ultralytics.nn.modules.block.C3k2            [256, 64, 1, False]           \n",
      " 17                  -1  1     36992  ultralytics.nn.modules.conv.Conv             [64, 64, 3, 2]                \n",
      " 18            [-1, 13]  1         0  ultralytics.nn.modules.conv.Concat           [1]                           \n",
      " 19                  -1  1     86720  ultralytics.nn.modules.block.C3k2            [192, 128, 1, False]          \n",
      " 20                  -1  1    147712  ultralytics.nn.modules.conv.Conv             [128, 128, 3, 2]              \n",
      " 21            [-1, 10]  1         0  ultralytics.nn.modules.conv.Concat           [1]                           \n",
      " 22                  -1  1    378880  ultralytics.nn.modules.block.C3k2            [384, 256, 1, True]           \n",
      " 23        [16, 19, 22]  1    431062  ultralytics.nn.modules.head.Detect           [2, [64, 128, 256]]           \n",
      "YOLO11n summary: 181 layers, 2,590,230 parameters, 2,590,214 gradients, 6.4 GFLOPs\n",
      "\n",
      "Transferred 448/499 items from pretrained weights\n",
      "Freezing layer 'model.23.dfl.conv.weight'\n"
     ]
    },
    {
     "name": "stderr",
     "output_type": "stream",
     "text": [
      "\u001b[34m\u001b[1mtrain: \u001b[0mScanning C:\\Users\\Aman.DESKTOP-VEB4T1B\\OneDrive\\Documents\\Rutgers\\Capstone\\ece-capstone\\ML Model\\dataset\\train\\labels... 220 images, 0 backgrounds, 0 corrupt: 100%|██████████| 220/220 [00:00<00:00, 257.36it/s]"
     ]
    },
    {
     "name": "stdout",
     "output_type": "stream",
     "text": [
      "\u001b[34m\u001b[1mtrain: \u001b[0mNew cache created: C:\\Users\\Aman.DESKTOP-VEB4T1B\\OneDrive\\Documents\\Rutgers\\Capstone\\ece-capstone\\ML Model\\dataset\\train\\labels.cache\n"
     ]
    },
    {
     "name": "stderr",
     "output_type": "stream",
     "text": [
      "\n",
      "\u001b[34m\u001b[1mval: \u001b[0mScanning C:\\Users\\Aman.DESKTOP-VEB4T1B\\OneDrive\\Documents\\Rutgers\\Capstone\\ece-capstone\\ML Model\\dataset\\val\\labels... 83 images, 0 backgrounds, 0 corrupt: 100%|██████████| 83/83 [00:00<00:00, 453.89it/s]\n"
     ]
    },
    {
     "name": "stdout",
     "output_type": "stream",
     "text": [
      "\u001b[34m\u001b[1mval: \u001b[0mNew cache created: C:\\Users\\Aman.DESKTOP-VEB4T1B\\OneDrive\\Documents\\Rutgers\\Capstone\\ece-capstone\\ML Model\\dataset\\val\\labels.cache\n",
      "Plotting labels to runs\\detect\\train25\\labels.jpg... \n",
      "\u001b[34m\u001b[1moptimizer:\u001b[0m Adam(lr=0.01, momentum=0.937) with parameter groups 81 weight(decay=0.0), 88 weight(decay=0.0005), 87 bias(decay=0.0)\n",
      "Image sizes 640 train, 640 val\n",
      "Using 0 dataloader workers\n",
      "Logging results to \u001b[1mruns\\detect\\train25\u001b[0m\n",
      "Starting training for 5 epochs...\n",
      "\n",
      "      Epoch    GPU_mem   box_loss   cls_loss   dfl_loss  Instances       Size\n"
     ]
    },
    {
     "name": "stderr",
     "output_type": "stream",
     "text": [
      "        1/5         0G      2.303      2.799      1.771        405        640: 100%|██████████| 14/14 [01:47<00:00,  7.65s/it]\n",
      "                 Class     Images  Instances      Box(P          R      mAP50  mAP50-95):   0%|          | 0/3 [00:00<?, ?it/s]"
     ]
    },
    {
     "name": "stdout",
     "output_type": "stream",
     "text": [
      "WARNING  NMS time limit 3.600s exceeded\n"
     ]
    },
    {
     "name": "stderr",
     "output_type": "stream",
     "text": [
      "                 Class     Images  Instances      Box(P          R      mAP50  mAP50-95):  33%|███▎      | 1/3 [00:09<00:19,  9.85s/it]"
     ]
    },
    {
     "name": "stdout",
     "output_type": "stream",
     "text": [
      "WARNING  NMS time limit 3.600s exceeded\n"
     ]
    },
    {
     "name": "stderr",
     "output_type": "stream",
     "text": [
      "                 Class     Images  Instances      Box(P          R      mAP50  mAP50-95):  67%|██████▋   | 2/3 [00:20<00:10, 10.20s/it]"
     ]
    },
    {
     "name": "stdout",
     "output_type": "stream",
     "text": [
      "WARNING  NMS time limit 2.950s exceeded\n"
     ]
    },
    {
     "name": "stderr",
     "output_type": "stream",
     "text": [
      "                 Class     Images  Instances      Box(P          R      mAP50  mAP50-95): 100%|██████████| 3/3 [00:26<00:00,  8.81s/it]"
     ]
    },
    {
     "name": "stdout",
     "output_type": "stream",
     "text": [
      "                   all         83       2579    0.00944     0.0453    0.00787     0.0027\n"
     ]
    },
    {
     "name": "stderr",
     "output_type": "stream",
     "text": [
      "\n"
     ]
    },
    {
     "name": "stdout",
     "output_type": "stream",
     "text": [
      "\n",
      "      Epoch    GPU_mem   box_loss   cls_loss   dfl_loss  Instances       Size\n"
     ]
    },
    {
     "name": "stderr",
     "output_type": "stream",
     "text": [
      "        2/5         0G       2.17      2.146      1.696        729        640: 100%|██████████| 14/14 [01:53<00:00,  8.13s/it]\n",
      "                 Class     Images  Instances      Box(P          R      mAP50  mAP50-95):   0%|          | 0/3 [00:00<?, ?it/s]"
     ]
    },
    {
     "name": "stdout",
     "output_type": "stream",
     "text": [
      "WARNING  NMS time limit 3.600s exceeded\n"
     ]
    },
    {
     "name": "stderr",
     "output_type": "stream",
     "text": [
      "                 Class     Images  Instances      Box(P          R      mAP50  mAP50-95):  33%|███▎      | 1/3 [00:09<00:18,  9.13s/it]"
     ]
    },
    {
     "name": "stdout",
     "output_type": "stream",
     "text": [
      "WARNING  NMS time limit 3.600s exceeded\n"
     ]
    },
    {
     "name": "stderr",
     "output_type": "stream",
     "text": [
      "                 Class     Images  Instances      Box(P          R      mAP50  mAP50-95):  67%|██████▋   | 2/3 [00:18<00:09,  9.21s/it]"
     ]
    },
    {
     "name": "stdout",
     "output_type": "stream",
     "text": [
      "WARNING  NMS time limit 2.950s exceeded\n"
     ]
    },
    {
     "name": "stderr",
     "output_type": "stream",
     "text": [
      "                 Class     Images  Instances      Box(P          R      mAP50  mAP50-95): 100%|██████████| 3/3 [00:24<00:00,  8.21s/it]"
     ]
    },
    {
     "name": "stdout",
     "output_type": "stream",
     "text": [
      "                   all         83       2579    0.00958     0.0613    0.00625    0.00212\n"
     ]
    },
    {
     "name": "stderr",
     "output_type": "stream",
     "text": [
      "\n"
     ]
    },
    {
     "name": "stdout",
     "output_type": "stream",
     "text": [
      "\n",
      "      Epoch    GPU_mem   box_loss   cls_loss   dfl_loss  Instances       Size\n"
     ]
    },
    {
     "name": "stderr",
     "output_type": "stream",
     "text": [
      "        3/5         0G      2.168      1.933       1.67        616        640: 100%|██████████| 14/14 [01:41<00:00,  7.27s/it]\n",
      "                 Class     Images  Instances      Box(P          R      mAP50  mAP50-95):   0%|          | 0/3 [00:00<?, ?it/s]"
     ]
    },
    {
     "name": "stdout",
     "output_type": "stream",
     "text": [
      "WARNING  NMS time limit 3.600s exceeded\n"
     ]
    },
    {
     "name": "stderr",
     "output_type": "stream",
     "text": [
      "                 Class     Images  Instances      Box(P          R      mAP50  mAP50-95):  33%|███▎      | 1/3 [00:11<00:22, 11.03s/it]"
     ]
    },
    {
     "name": "stdout",
     "output_type": "stream",
     "text": [
      "WARNING  NMS time limit 3.600s exceeded\n"
     ]
    },
    {
     "name": "stderr",
     "output_type": "stream",
     "text": [
      "                 Class     Images  Instances      Box(P          R      mAP50  mAP50-95):  67%|██████▋   | 2/3 [00:20<00:10, 10.01s/it]"
     ]
    },
    {
     "name": "stdout",
     "output_type": "stream",
     "text": [
      "WARNING  NMS time limit 2.950s exceeded\n"
     ]
    },
    {
     "name": "stderr",
     "output_type": "stream",
     "text": [
      "                 Class     Images  Instances      Box(P          R      mAP50  mAP50-95): 100%|██████████| 3/3 [00:27<00:00,  9.31s/it]"
     ]
    },
    {
     "name": "stdout",
     "output_type": "stream",
     "text": [
      "                   all         83       2579     0.0179     0.0377    0.00885    0.00246\n"
     ]
    },
    {
     "name": "stderr",
     "output_type": "stream",
     "text": [
      "\n"
     ]
    },
    {
     "name": "stdout",
     "output_type": "stream",
     "text": [
      "\n",
      "      Epoch    GPU_mem   box_loss   cls_loss   dfl_loss  Instances       Size\n"
     ]
    },
    {
     "name": "stderr",
     "output_type": "stream",
     "text": [
      "        4/5         0G      2.036      1.747      1.621        604        640: 100%|██████████| 14/14 [01:41<00:00,  7.24s/it]\n",
      "                 Class     Images  Instances      Box(P          R      mAP50  mAP50-95):   0%|          | 0/3 [00:00<?, ?it/s]"
     ]
    },
    {
     "name": "stdout",
     "output_type": "stream",
     "text": [
      "WARNING  NMS time limit 3.600s exceeded\n"
     ]
    },
    {
     "name": "stderr",
     "output_type": "stream",
     "text": [
      "                 Class     Images  Instances      Box(P          R      mAP50  mAP50-95):  33%|███▎      | 1/3 [00:08<00:17,  8.87s/it]"
     ]
    },
    {
     "name": "stdout",
     "output_type": "stream",
     "text": [
      "WARNING  NMS time limit 3.600s exceeded\n"
     ]
    },
    {
     "name": "stderr",
     "output_type": "stream",
     "text": [
      "                 Class     Images  Instances      Box(P          R      mAP50  mAP50-95):  67%|██████▋   | 2/3 [00:17<00:08,  8.85s/it]"
     ]
    },
    {
     "name": "stdout",
     "output_type": "stream",
     "text": [
      "WARNING  NMS time limit 2.950s exceeded\n"
     ]
    },
    {
     "name": "stderr",
     "output_type": "stream",
     "text": [
      "                 Class     Images  Instances      Box(P          R      mAP50  mAP50-95): 100%|██████████| 3/3 [00:24<00:00,  8.17s/it]"
     ]
    },
    {
     "name": "stdout",
     "output_type": "stream",
     "text": [
      "                   all         83       2579       0.18     0.0639     0.0641     0.0233\n"
     ]
    },
    {
     "name": "stderr",
     "output_type": "stream",
     "text": [
      "\n"
     ]
    },
    {
     "name": "stdout",
     "output_type": "stream",
     "text": [
      "\n",
      "      Epoch    GPU_mem   box_loss   cls_loss   dfl_loss  Instances       Size\n"
     ]
    },
    {
     "name": "stderr",
     "output_type": "stream",
     "text": [
      "        5/5         0G      1.959      1.665      1.567        706        640: 100%|██████████| 14/14 [01:51<00:00,  7.97s/it]\n",
      "                 Class     Images  Instances      Box(P          R      mAP50  mAP50-95):   0%|          | 0/3 [00:00<?, ?it/s]"
     ]
    },
    {
     "name": "stdout",
     "output_type": "stream",
     "text": [
      "WARNING  NMS time limit 3.600s exceeded\n"
     ]
    },
    {
     "name": "stderr",
     "output_type": "stream",
     "text": [
      "                 Class     Images  Instances      Box(P          R      mAP50  mAP50-95):  33%|███▎      | 1/3 [00:09<00:18,  9.32s/it]"
     ]
    },
    {
     "name": "stdout",
     "output_type": "stream",
     "text": [
      "WARNING  NMS time limit 3.600s exceeded\n"
     ]
    },
    {
     "name": "stderr",
     "output_type": "stream",
     "text": [
      "                 Class     Images  Instances      Box(P          R      mAP50  mAP50-95):  67%|██████▋   | 2/3 [00:18<00:09,  9.19s/it]"
     ]
    },
    {
     "name": "stdout",
     "output_type": "stream",
     "text": [
      "WARNING  NMS time limit 2.950s exceeded\n"
     ]
    },
    {
     "name": "stderr",
     "output_type": "stream",
     "text": [
      "                 Class     Images  Instances      Box(P          R      mAP50  mAP50-95): 100%|██████████| 3/3 [00:24<00:00,  8.17s/it]"
     ]
    },
    {
     "name": "stdout",
     "output_type": "stream",
     "text": [
      "                   all         83       2579      0.204      0.154      0.129     0.0527\n"
     ]
    },
    {
     "name": "stderr",
     "output_type": "stream",
     "text": [
      "\n"
     ]
    },
    {
     "name": "stdout",
     "output_type": "stream",
     "text": [
      "\n",
      "5 epochs completed in 0.185 hours.\n",
      "Optimizer stripped from runs\\detect\\train25\\weights\\last.pt, 5.5MB\n",
      "Optimizer stripped from runs\\detect\\train25\\weights\\best.pt, 5.5MB\n",
      "\n",
      "Validating runs\\detect\\train25\\weights\\best.pt...\n",
      "Ultralytics 8.3.81  Python-3.13.2 torch-2.6.0+cpu CPU (Intel Core(TM) i7-8700K 3.70GHz)\n",
      "YOLO11n summary (fused): 100 layers, 2,582,542 parameters, 0 gradients, 6.3 GFLOPs\n"
     ]
    },
    {
     "name": "stderr",
     "output_type": "stream",
     "text": [
      "                 Class     Images  Instances      Box(P          R      mAP50  mAP50-95):   0%|          | 0/3 [00:00<?, ?it/s]"
     ]
    },
    {
     "name": "stdout",
     "output_type": "stream",
     "text": [
      "WARNING  NMS time limit 3.600s exceeded\n"
     ]
    },
    {
     "name": "stderr",
     "output_type": "stream",
     "text": [
      "                 Class     Images  Instances      Box(P          R      mAP50  mAP50-95):  33%|███▎      | 1/3 [00:08<00:17,  8.55s/it]"
     ]
    },
    {
     "name": "stdout",
     "output_type": "stream",
     "text": [
      "WARNING  NMS time limit 3.600s exceeded\n"
     ]
    },
    {
     "name": "stderr",
     "output_type": "stream",
     "text": [
      "                 Class     Images  Instances      Box(P          R      mAP50  mAP50-95):  67%|██████▋   | 2/3 [00:17<00:08,  8.52s/it]"
     ]
    },
    {
     "name": "stdout",
     "output_type": "stream",
     "text": [
      "WARNING  NMS time limit 2.950s exceeded\n"
     ]
    },
    {
     "name": "stderr",
     "output_type": "stream",
     "text": [
      "                 Class     Images  Instances      Box(P          R      mAP50  mAP50-95): 100%|██████████| 3/3 [00:22<00:00,  7.62s/it]\n"
     ]
    },
    {
     "name": "stdout",
     "output_type": "stream",
     "text": [
      "                   all         83       2579      0.201      0.146      0.123     0.0499\n",
      "                   car         83       1314      0.262      0.235      0.196     0.0787\n",
      "                 empty         77       1265       0.14     0.0569     0.0505      0.021\n",
      "Speed: 1.9ms preprocess, 82.7ms inference, 0.0ms loss, 127.1ms postprocess per image\n",
      "Results saved to \u001b[1mruns\\detect\\train25\u001b[0m\n"
     ]
    }
   ],
   "source": [
    "# Load model\n",
    "model = YOLO(\"yolo11n.pt\")\n",
    "\n",
    "# Train model\n",
    "results = model.train(\n",
    "    data=data_yaml, \n",
    "    epochs=5, \n",
    "    imgsz=640,\n",
    "    batch=16,\n",
    "    optimizer='Adam'\n",
    ")\n",
    "\n",
    "# Change path in C:\\Users\\[user]\\AppData\\Roaming\\Ultralytics\\settings.json to where the \"ML Model\" folder is stored on your computer"
   ]
  },
  {
   "cell_type": "code",
   "execution_count": 9,
   "id": "1c6163bb-a861-40d6-a901-77f1dd669660",
   "metadata": {},
   "outputs": [
    {
     "name": "stdout",
     "output_type": "stream",
     "text": [
      "Processing GOPR0049.JPG | Shape: (3000, 4000, 3)\n",
      "Label contents for GOPR0049.JPG:\n",
      "['1 0.7893126874999999 0.794413 0.2617702500000001 0.34651599999999994\\n', '0 0.6459510625 0.6704331666666666 0.30885124999999997 0.34526066666666666\\n', '0 0.5221280625 0.5593220833333333 0.27118650000000005 0.259887\\n', '0 0.4357345 0.4789704166666666 0.25047100000000005 0.21594466666666667\\n', '1 0.3667608125 0.41494033333333336 0.22222225 0.17702466666666666\\n', '0 0.31156887499999997 0.36471983333333335 0.19578299999999998 0.14216866666666667\\n', '1 0.266689375 0.32476008333333334 0.16807224999999998 0.12048200000000003\\n', '1 0.234008625 0.294238 0.15060224999999997 0.10923699999999995\\n', '1 0.207752625 0.2698534166666667 0.13634949999999998 0.094779\\n', '0 0.18442425 0.250235 0.12325000000000001 0.08600000000000002\\n', '0 0.16667425 0.23448500000000003 0.10674999999999998 0.07266666666666666\\n', '0 0.15304925 0.2219016666666667 0.09575 0.06766666666666668\\n', '0 0.14104925000000001 0.21081833333333333 0.08825000000000001 0.06\\n']\n"
     ]
    },
    {
     "data": {
      "text/plain": [
       "<Figure size 600x600 with 1 Axes>"
      ]
     },
     "metadata": {},
     "output_type": "display_data"
    },
    {
     "name": "stdout",
     "output_type": "stream",
     "text": [
      "Processing GOPR6770.JPG | Shape: (3000, 4000, 3)\n",
      "Label contents for GOPR6770.JPG:\n",
      "['0 0.9358339375 0.7797934166666667 0.10666675000000003 0.3004446666666666\\n', '1 0.8655839375 0.7047934166666667 0.12766650000000002 0.28755566666666665\\n', '0 0.7890005625 0.6239045833333333 0.1523332500000001 0.2653333333333333\\n', '1 0.70941725 0.5447934166666667 0.17066674999999998 0.2302223333333333\\n', '1 0.63316725 0.4726823333333333 0.18266650000000006 0.1906666666666666\\n', '0 0.5653339374999999 0.41112675 0.18066650000000006 0.15511133333333327\\n', '1 0.5072505625 0.36090466666666665 0.17233324999999994 0.12488900000000003\\n', '0 0.45933393749999996 0.32168233333333335 0.1606667499999999 0.10311100000000001\\n', '1 0.419083875 0.28990458333333335 0.14800000000000002 0.08755566666666667\\n', '1 0.9590839375 0.5986824166666667 0.06166674999999999 0.18622233333333338\\n', '1 0.9010005624999999 0.5410156666666667 0.07700000000000007 0.1755553333333334\\n', '1 0.8400005625 0.4819045833333333 0.09466674999999991 0.15688899999999995\\n', '1 0.7776672499999999 0.42690458333333337 0.10633349999999997 0.13555566666666663\\n', '1 0.716333875 0.3775711666666667 0.11699999999999999 0.11199999999999999\\n', '1 0.6580839374999999 0.33457125 0.12566674999999994 0.09377799999999997\\n', '1 0.33670275 0.22855066666666668 0.11466674999999998 0.06044433333333335\\n', '0 0.31761937500000004 0.21510616666666668 0.10266649999999994 0.05288900000000002\\n', '1 0.3013694375 0.20355058333333334 0.09566650000000004 0.04755566666666666\\n', '0 0.287036125 0.19399524999999998 0.08733325 0.04400000000000001\\n', '1 0.27545268749999996 0.18527274999999999 0.08299999999999999 0.04022233333333333\\n', '0 0.3421610625 0.15821733333333332 0.07850025 0.02733333333333332\\n', '1 0.2649526875 0.17824508333333333 0.08166674999999995 0.03966666666666668\\n', '1 0.326869375 0.15182858333333332 0.0675 0.02555566666666667\\n', '1 0.2545776875 0.17143958333333334 0.07549999999999996 0.03600000000000003\\n', '0 0.3135360625 0.14688400000000001 0.06316650000000001 0.023111333333333317\\n', '1 0.3018694375 0.142384 0.059333250000000004 0.02288900000000002\\n', '1 0.2461610625 0.16560616666666667 0.07016650000000002 0.033999999999999975\\n', '1 0.3594110625 0.16505058333333333 0.08516675000000001 0.03\\n', '1 0.3778695 0.17288399999999998 0.09199999999999997 0.03288866666666668\\n', '1 0.7944945 0.2835506666666667 0.06300000000000006 0.0576666666666667\\n', '1 0.753682 0.2569673333333334 0.0695 0.049000000000000016\\n', '0 0.776932 0.23771733333333336 0.056499999999999995 0.03566666666666668\\n', '0 0.7137445 0.23255066666666668 0.07025000000000003 0.041333333333333305\\n', '1 0.677161125 0.21205066666666667 0.07450000000000001 0.03666666666666665\\n', '1 0.74170275 0.21771733333333335 0.05383350000000009 0.028888999999999998\\n', '0 0.7093694375 0.19927283333333334 0.058666499999999844 0.025777666666666643\\n', '0 0.6763694375 0.18260616666666665 0.05899999999999994 0.02288866666666664\\n', '1 0.6418694375 0.194384 0.07600000000000007 0.03133333333333335\\n', '1 0.6471610624999999 0.168384 0.05833325 0.020444333333333342\\n', '1 0.6093694375 0.17921733333333334 0.07483325000000007 0.028888666666666674\\n', '1 0.5794110625 0.1657728333333333 0.07366649999999997 0.02533333333333332\\n', '1 0.619994375 0.15621741666666666 0.06316675000000005 0.01866699999999999\\n', '1 0.593369375 0.14499516666666667 0.06266649999999996 0.016444666666666663\\n', '1 0.5514944374999999 0.1539395 0.07350000000000001 0.023333333333333317\\n', '0 0.567369375 0.13543966666666668 0.05983324999999984 0.013111000000000012\\n', '1 0.5269944375 0.14427283333333335 0.06783325000000007 0.020222333333333314\\n', '1 0.5433276874999999 0.12799508333333334 0.05616650000000001 0.012222333333333321\\n', '1 0.50532775 0.135884 0.064 0.018221999999999988\\n', '0 0.5211194375 0.12143958333333334 0.057166750000000044 0.012666666666666673\\n', '0 0.48245275 0.12943958333333333 0.06449974999999997 0.015555333333333324\\n', '1 0.46095275 0.12410625 0.06283325000000006 0.015111\\n', '1 0.4999944375 0.11543941666666666 0.052666749999999984 0.01222200000000001\\n', '1 0.4434110625 0.1189395 0.061333250000000006 0.016\\n', '0 0.48245281250000005 0.10993958333333334 0.05149999999999999 0.011999666666666672\\n', '0 0.4268694375 0.11416175 0.05783325000000006 0.015333333333333338\\n', '1 0.4117026875 0.10982841666666666 0.05433325 0.013999999999999999\\n', '0 0.4646194375 0.10488391666666667 0.05083325000000005 0.011555666666666686\\n', '1 0.447411125 0.100384 0.046999999999999986 0.012222333333333349\\n', '1 0.869185875 0.24847991666666666 0.03366675000000008 0.0333333333333333\\n', '1 0.8413109375000001 0.23014658333333335 0.03649999999999998 0.02933333333333335\\n', '0 0.814061 0.21231316666666666 0.03700000000000003 0.02733333333333332\\n', '1 0.78664425 0.19597991666666667 0.040666749999999974 0.02333366666666667\\n', '1 0.7602275625 0.181091 0.04316674999999992 0.02111099999999999\\n', '1 0.732378375 0.15090325 0.03699999999999992 0.013444333333333308\\n', '0 0.7104825625 0.14051433333333335 0.03983324999999982 0.011555666666666659\\n', '1 0.6905659375000001 0.13140316666666665 0.03674999999999995 0.008778000000000008\\n', '1 0.6710659375000001 0.12329208333333333 0.03983325000000004 0.008555666666666684\\n', '1 0.5815450625 0.10509774999999999 0.044416750000000116 0.00966666666666667\\n', '0 0.56539925 0.09962541666666666 0.04124974999999986 0.008444666666666656\\n', '1 0.6127534375 0.10237541666666666 0.035666500000000045 0.006666666666666668\\n', '0 0.595795125 0.09676433333333333 0.03424975000000008 0.005333333333333329\\n']\n"
     ]
    },
    {
     "data": {
      "text/plain": [
       "<Figure size 600x600 with 1 Axes>"
      ]
     },
     "metadata": {},
     "output_type": "display_data"
    },
    {
     "name": "stdout",
     "output_type": "stream",
     "text": [
      "Processing GOPR6765.JPG | Shape: (3000, 4000, 3)\n",
      "Label contents for GOPR6765.JPG:\n",
      "['0 0.31900425 0.8789686666666667 0.288 0.27493066666666666\\n', '0 0.22731675 0.7739026666666667 0.24325000000000002 0.31466666666666665\\n', '0 0.1825459375 0.6674026666666667 0.20083325000000002 0.254\\n', '0 0.1528375625 0.5854026666666667 0.172 0.2031110000000001\\n', '1 0.133171 0.5225136666666667 0.151 0.17288899999999996\\n', '1 0.93922825 0.7292846666666666 0.08000000000000007 0.2713333333333333\\n', '1 0.86902 0.6684513333333333 0.10650000000000004 0.2613333333333332\\n', '0 0.790895 0.6027846666666666 0.13049999999999995 0.24533333333333324\\n', '1 0.70852 0.537118 0.15400000000000003 0.21266666666666662\\n', '0 0.631228375 0.47689574999999995 0.16166674999999997 0.18399999999999994\\n', '1 0.559895 0.4255625 0.16733325000000004 0.15377800000000008\\n', '1 0.4983950625 0.383118 0.16366674999999997 0.12711099999999997\\n', '1 0.9426449375 0.5637846666666666 0.059333250000000004 0.15955533333333338\\n', '0 0.885811625 0.5172290833333334 0.06766675 0.1537776666666667\\n', '1 0.8233116875 0.4677846666666667 0.08066649999999997 0.13911133333333336\\n', '0 0.759895 0.42200699999999997 0.09599999999999997 0.12133333333333335\\n', '0 0.6975616250000001 0.3801180833333333 0.10566675000000003 0.10399999999999998\\n', '1 0.6385616875 0.34467349999999997 0.11333349999999986 0.08666666666666661\\n', '0 0.5824783124999999 0.3160069166666667 0.11433324999999994 0.07466666666666666\\n', '0 0.4458116875 0.3486735 0.15199999999999997 0.10622233333333336\\n', '1 0.40268675 0.32028475 0.1403335 0.09066666666666667\\n', '0 0.36810325 0.2976456666666667 0.1295 0.08033333333333337\\n', '0 0.33966575 0.27981233333333333 0.122 0.07099999999999998\\n', '0 0.3150095 0.26493733333333336 0.11299999999999999 0.06616666666666668\\n', '0 0.45516575 0.2516873333333334 0.10924999999999996 0.047500000000000014\\n', '0 0.42297825 0.23702066666666666 0.10087499999999999 0.04266666666666666\\n', '0 0.11896462499999999 0.47336391666666666 0.1345 0.14022233333333345\\n', '0 0.108923 0.43447508333333335 0.1205 0.11977800000000005\\n', '0 0.1020063125 0.40269733333333335 0.10966675 0.10155566666666666\\n', '0 0.09692300000000001 0.37669733333333333 0.0995 0.08666666666666667\\n', '0 0.092381375 0.355864 0.0905 0.07777766666666663\\n', '0 0.08958975 0.3372529166666667 0.08250000000000002 0.07\\n', '0 0.0877146875 0.32119733333333333 0.07533324999999999 0.06\\n', '0 0.0854646875 0.30680833333333335 0.06649999999999999 0.05133333333333334\\n', '0 0.2939759375 0.25234900000000005 0.10525000000000004 0.06\\n', '0 0.2740176875 0.24270999999999998 0.09525 0.053444333333333316\\n', '1 0.2562051875 0.23326550000000001 0.09041650000000001 0.04933333333333337\\n', '1 0.2394551875 0.22348774999999999 0.08549999999999999 0.04488900000000001\\n', '0 0.96478725 0.421878 0.04625000000000001 0.07800000000000001\\n', '1 0.9268497499999999 0.39404466666666665 0.04525000000000001 0.08099999999999996\\n', '1 0.88691225 0.3640446666666667 0.04399999999999993 0.07400000000000001\\n', '0 0.84584975 0.3347946666666667 0.04733324999999999 0.06611099999999998\\n', '1 0.8036830625 0.30776691666666667 0.054833249999999945 0.05933333333333335\\n', '1 0.76209975 0.28354466666666667 0.059249999999999914 0.051666666666666694\\n', '0 0.72124575 0.26185041666666664 0.0635 0.04522233333333328\\n', '0 0.6819749375 0.2424893333333333 0.0655 0.03966666666666668\\n', '1 0.645099875 0.22523933333333332 0.07008324999999993 0.03455566666666665\\n', '0 0.6087249375 0.21079491666666667 0.07216674999999995 0.03\\n', '1 0.57655825 0.198656 0.06874999999999998 0.02833333333333332\\n', '0 0.5478082500000001 0.18807266666666667 0.06874999999999998 0.024999999999999994\\n', '0 0.9542040625 0.37596141666666666 0.045499999999999985 0.06333333333333335\\n', '1 0.9205789375 0.35101708333333337 0.039333249999999986 0.05777766666666667\\n', '0 0.885954 0.32612816666666666 0.03733350000000002 0.05400000000000005\\n', '1 0.850370625 0.302017 0.038000000000000034 0.04822233333333337\\n', '0 0.8142873125 0.2798503333333333 0.04583349999999997 0.043555666666666604\\n', '1 0.7775373125 0.259017 0.04883325000000005 0.0382223333333333\\n', '1 0.7416623124999999 0.24068375 0.05433325 0.033555333333333354\\n', '0 0.70649575 0.224406 0.054833249999999945 0.029555666666666675\\n', '0 0.6733290625 0.20935033333333333 0.054333500000000146 0.025777999999999995\\n', '0 0.6406207500000001 0.19618366666666667 0.05800000000000005 0.02244466666666664\\n', '0 0.6109540625000001 0.18446141666666666 0.05666674999999999 0.021999666666666667\\n', '1 0.5850373125 0.174517 0.056166750000000154 0.01844433333333334\\n', '1 0.9853270000000001 0.34810166666666664 0.029938999999999938 0.03550000000000003\\n', '0 0.9623735 0.33297666666666664 0.03237500000000004 0.041000000000000036\\n', '0 0.9367172500000001 0.31435166666666664 0.033499999999999974 0.044833333333333336\\n', '1 0.9093735000000001 0.293435 0.030000000000000027 0.042833333333333334\\n', '0 0.88227975 0.27364333333333335 0.02862500000000001 0.03683333333333333\\n', '0 0.8548735000000001 0.25543499999999997 0.028874999999999984 0.0328333333333333\\n', '0 0.82721725 0.23910166666666666 0.032625000000000015 0.028166666666666645\\n', '1 0.7996235 0.224435 0.03487499999999999 0.02683333333333332\\n', '0 0.77259225 0.21022666666666665 0.03774999999999995 0.024166666666666642\\n', '0 0.74527975 0.19730999999999999 0.04074999999999995 0.021666666666666667\\n', '0 0.7191235 0.18560166666666666 0.04149999999999998 0.019333333333333313\\n', '0 0.69396725 0.17485166666666666 0.04300000000000004 0.017166666666666636\\n', '0 0.669311 0.16560166666666667 0.04437499999999994 0.014666666666666633\\n', '0 0.6455712499999999 0.1571505 0.04349999999999998 0.014083333333333337\\n']\n"
     ]
    },
    {
     "data": {
      "text/plain": [
       "<Figure size 600x600 with 1 Axes>"
      ]
     },
     "metadata": {},
     "output_type": "display_data"
    },
    {
     "name": "stdout",
     "output_type": "stream",
     "text": [
      "Processing GOPR6667.JPG | Shape: (3000, 4000, 3)\n",
      "Label contents for GOPR6667.JPG:\n",
      "['1 0.35612325 0.40909366666666663 0.16375 0.1353333333333333\\n', '0 0.31162325 0.36942699999999995 0.14449999999999996 0.11499999999999999\\n', '1 0.48074825 0.5185103333333333 0.19474999999999998 0.20733333333333337\\n', '1 0.5633732499999999 0.5925103333333334 0.19324999999999998 0.24833333333333335\\n', '0 0.6565494374999999 0.6745710833333334 0.18799999999999994 0.28488900000000006\\n', '0 0.7499661875 0.7505710833333333 0.16166675000000008 0.29422233333333336\\n', '1 0.966318 0.913622 0.07190925000000004 0.21422200000000002\\n', '1 0.27732212500000003 0.33846333333333334 0.12416675000000002 0.09555566666666665\\n', '1 0.2479054375 0.31028283333333334 0.12283324999999998 0.0899443333333334\\n', '1 0.21094712499999999 0.27663 0.09649999999999995 0.06666666666666668\\n', '0 0.19385349999999998 0.26142166666666666 0.09125 0.06283333333333335\\n', '1 0.1780305625 0.24751891666666664 0.08125000000000002 0.05483333333333332\\n']\n"
     ]
    },
    {
     "data": {
      "text/plain": [
       "<Figure size 600x600 with 1 Axes>"
      ]
     },
     "metadata": {},
     "output_type": "display_data"
    },
    {
     "name": "stdout",
     "output_type": "stream",
     "text": [
      "Processing GOPR6683.JPG | Shape: (3000, 4000, 3)\n",
      "Label contents for GOPR6683.JPG:\n",
      "['1 0.352710125 0.48362933333333336 0.14099974999999998 0.15155566666666664\\n', '0 0.6228768124999999 0.54251825 0.11299999999999999 0.19200000000000006\\n', '0 0.7203768749999999 0.5652959166666667 0.10466675000000003 0.19688899999999998\\n', '1 0.8064601874999999 0.5850737500000001 0.10200000000000009 0.1844446666666667\\n', '0 0.524626875 0.5197404166666667 0.132 0.182222\\n', '0 0.43254349999999997 0.50007375 0.14300000000000002 0.16399999999999998\\n', '0 0.285106 0.46846266666666664 0.13825 0.137\\n', '1 0.229481 0.456796 0.12350000000000003 0.1213333333333334\\n', '1 0.185751875 0.447685 0.11733349999999998 0.11199999999999999\\n', '0 0.1489601875 0.4391293333333333 0.10783350000000001 0.10355566666666671\\n', '0 0.1175435 0.43151833333333334 0.09916649999999999 0.09733333333333333\\n', '1 0.28098999999999996 0.2319479166666667 0.06216674999999999 0.014444333333333309\\n', '0 0.2981358125 0.21992025 0.059666749999999935 0.012444333333333363\\n', '1 0.24216712499999998 0.25928133333333336 0.0625 0.014999999999999958\\n', '1 0.262182625 0.24519800000000003 0.06268749999999998 0.01416666666666666\\n', '1 0.9410810000000001 0.6179733333333334 0.09224999999999994 0.16233333333333333\\n']\n"
     ]
    },
    {
     "data": {
      "text/plain": [
       "<Figure size 600x600 with 1 Axes>"
      ]
     },
     "metadata": {},
     "output_type": "display_data"
    }
   ],
   "source": [
    "# Visualize sample images\n",
    "def visualize_samples(split, num=5):\n",
    "    img_dir = f\"dataset/{split}/images\"\n",
    "    label_dir = f\"dataset/{split}/labels\"\n",
    "\n",
    "    sample_images = random.sample(os.listdir(img_dir), num)\n",
    "    \n",
    "    for img_file in sample_images:\n",
    "        img_path = os.path.join(img_dir, img_file)\n",
    "        label_path = os.path.join(label_dir, img_file.replace(\".JPG\", \".txt\"))\n",
    "\n",
    "        if not os.path.exists(img_path) or not os.path.exists(label_path):\n",
    "            print(f\"Skipping {img_file}, missing label or image file!\")\n",
    "            continue\n",
    "\n",
    "        img = cv2.imread(img_path)\n",
    "        if img is None:\n",
    "            print(f\"Error: Could not load image {img_path}\")\n",
    "            continue\n",
    "        img = cv2.cvtColor(img, cv2.COLOR_BGR2RGB)\n",
    "\n",
    "        h_img, w_img, _ = img.shape\n",
    "\n",
    "        print(f\"Processing {img_file} | Shape: {img.shape}\")\n",
    "\n",
    "        with open(label_path, \"r\") as lf:\n",
    "            labels = lf.readlines()\n",
    "            print(f\"Label contents for {img_file}:\\n{labels}\")\n",
    "\n",
    "            for label in labels:\n",
    "                class_id, x, y, w, h = map(float, label.split())\n",
    "\n",
    "                # Convert YOLO format (normalized) to pixel coordinates\n",
    "                x1 = int((x - w / 2) * w_img)\n",
    "                y1 = int((y - h / 2) * h_img)\n",
    "                x2 = int((x + w / 2) * w_img)\n",
    "                y2 = int((y + h / 2) * h_img)\n",
    "\n",
    "                color = (255, 0, 0) if class_id == 0 else (0, 255, 0)\n",
    "                label_name = \"Car\" if class_id == 0 else \"Empty\"\n",
    "\n",
    "                cv2.rectangle(img, (x1, y1), (x2, y2), color, 2)\n",
    "                cv2.putText(img, label_name, (x1, y1 - 10), cv2.FONT_HERSHEY_SIMPLEX, 0.5, color, 2)\n",
    "\n",
    "        plt.figure(figsize=(6, 6))\n",
    "        plt.imshow(img)\n",
    "        plt.axis(\"off\")\n",
    "        plt.show(block=True)  # Force display\n",
    "\n",
    "# Run and debug visualization\n",
    "visualize_samples(\"train\")"
   ]
  }
 ],
 "metadata": {
  "kernelspec": {
   "display_name": "Python 3",
   "language": "python",
   "name": "python3"
  },
  "language_info": {
   "codemirror_mode": {
    "name": "ipython",
    "version": 3
   },
   "file_extension": ".py",
   "mimetype": "text/x-python",
   "name": "python",
   "nbconvert_exporter": "python",
   "pygments_lexer": "ipython3",
   "version": "3.13.2"
  }
 },
 "nbformat": 4,
 "nbformat_minor": 5
}
