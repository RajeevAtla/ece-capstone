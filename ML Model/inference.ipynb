{
 "cells": [
  {
   "cell_type": "code",
   "execution_count": 1,
   "id": "bfab334f-ee19-4bec-b3cf-b83e07f5ef98",
   "metadata": {},
   "outputs": [],
   "source": [
    "from ultralytics import YOLO\n",
    "import json\n",
    "import os\n",
    "import shutil\n",
    "import random\n",
    "import cv2\n",
    "import matplotlib.pyplot as plt"
   ]
  },
  {
   "cell_type": "code",
   "execution_count": 2,
   "id": "109035f4-7739-4736-9e86-96e47f7046e5",
   "metadata": {},
   "outputs": [],
   "source": [
    "json_path = \"annotations.json\"\n",
    "images_dir = \"images\"\n",
    "labels_dir = \"labels\"\n",
    "data_yaml = \"data.yaml\"\n",
    "train_dir = \"dataset/train\"\n",
    "val_dir = \"dataset/val\"\n",
    "os.makedirs(train_dir + \"/images\", exist_ok=True)\n",
    "os.makedirs(train_dir + \"/labels\", exist_ok=True)\n",
    "os.makedirs(val_dir + \"/images\", exist_ok=True)\n",
    "os.makedirs(val_dir + \"/labels\", exist_ok=True)"
   ]
  },
  {
   "cell_type": "code",
   "execution_count": 3,
   "id": "bbe7fe33-99e3-466d-a14a-52359b15e1a0",
   "metadata": {},
   "outputs": [],
   "source": [
    "# Load JSON annotation file\n",
    "with open(json_path, \"r\") as f:\n",
    "    data = json.load(f)\n",
    "\n",
    "file_names = data[\"train\"][\"file_names\"]\n",
    "rois_list = data[\"train\"][\"rois_list\"]\n",
    "occupancy_list = data[\"train\"][\"occupancy_list\"]\n",
    "\n",
    "# Split dataset (80% train, 20% val)\n",
    "data_pairs = list(zip(file_names, rois_list, occupancy_list))\n",
    "random.shuffle(data_pairs)\n",
    "split_idx = int(0.8 * len(data_pairs))\n",
    "train_data = data_pairs[:split_idx]\n",
    "val_data = data_pairs[split_idx:]"
   ]
  },
  {
   "cell_type": "code",
   "execution_count": 4,
   "id": "fcb77d6d",
   "metadata": {},
   "outputs": [],
   "source": [
    "# Function to process and save labels\n",
    "def save_labels(file_name, rois, occupancy, split):\n",
    "    label_path = f\"dataset/{split}/labels/\" + file_name.replace(\".JPG\", \".txt\")\n",
    "    img_path = os.path.join(images_dir, file_name)\n",
    "    shutil.copy(img_path, f\"dataset/{split}/images/\")\n",
    "    \n",
    "    with open(label_path, \"w\") as lf:\n",
    "        for obj, occupied in zip(rois, occupancy):\n",
    "            x_values = [p[0] for p in obj]\n",
    "            y_values = [p[1] for p in obj]\n",
    "            x_center = sum(x_values) / len(x_values)\n",
    "            y_center = sum(y_values) / len(y_values)\n",
    "            width = max(x_values) - min(x_values)\n",
    "            height = max(y_values) - min(y_values)\n",
    "            class_id = 0 if occupied else 1\n",
    "            lf.write(f\"{class_id} {x_center} {y_center} {width} {height}\\n\")\n",
    "\n",
    "# Process all data\n",
    "for file_name, rois, occupancy in train_data:\n",
    "    save_labels(file_name, rois, occupancy, \"train\")\n",
    "for file_name, rois, occupancy in val_data:\n",
    "    save_labels(file_name, rois, occupancy, \"val\")"
   ]
  },
  {
   "cell_type": "code",
   "execution_count": 5,
   "id": "7a13ba27",
   "metadata": {},
   "outputs": [],
   "source": [
    "# Write data.yaml\n",
    "with open(data_yaml, \"w\") as f:\n",
    "    f.write(\"train: dataset/train\\n\")\n",
    "    f.write(\"val: dataset/val\\n\")\n",
    "    f.write(\"nc: 2\\n\")\n",
    "    f.write(\"names: ['car', 'empty']\\n\")"
   ]
  },
  {
   "cell_type": "code",
   "execution_count": 6,
   "id": "7d305317",
   "metadata": {},
   "outputs": [
    {
     "name": "stdout",
     "output_type": "stream",
     "text": [
      "Ultralytics 8.3.81  Python-3.13.2 torch-2.6.0+cpu CPU (Intel Core(TM) i7-8700K 3.70GHz)\n",
      "\u001b[34m\u001b[1mengine\\trainer: \u001b[0mtask=detect, mode=train, model=yolo11n.pt, data=data.yaml, epochs=5, time=None, patience=100, batch=16, imgsz=640, save=True, save_period=-1, cache=False, device=None, workers=8, project=None, name=train26, exist_ok=False, pretrained=True, optimizer=Adam, verbose=True, seed=0, deterministic=True, single_cls=False, rect=False, cos_lr=False, close_mosaic=10, resume=False, amp=True, fraction=1.0, profile=False, freeze=None, multi_scale=False, overlap_mask=True, mask_ratio=4, dropout=0.0, val=True, split=val, save_json=False, save_hybrid=False, conf=None, iou=0.7, max_det=300, half=False, dnn=False, plots=True, source=None, vid_stride=1, stream_buffer=False, visualize=False, augment=False, agnostic_nms=False, classes=None, retina_masks=False, embed=None, show=False, save_frames=False, save_txt=False, save_conf=False, save_crop=False, show_labels=True, show_conf=True, show_boxes=True, line_width=None, format=torchscript, keras=False, optimize=False, int8=False, dynamic=False, simplify=True, opset=None, workspace=None, nms=False, lr0=0.01, lrf=0.01, momentum=0.937, weight_decay=0.0005, warmup_epochs=3.0, warmup_momentum=0.8, warmup_bias_lr=0.1, box=7.5, cls=0.5, dfl=1.5, pose=12.0, kobj=1.0, nbs=64, hsv_h=0.015, hsv_s=0.7, hsv_v=0.4, degrees=0.0, translate=0.1, scale=0.5, shear=0.0, perspective=0.0, flipud=0.0, fliplr=0.5, bgr=0.0, mosaic=1.0, mixup=0.0, copy_paste=0.0, copy_paste_mode=flip, auto_augment=randaugment, erasing=0.4, crop_fraction=1.0, cfg=None, tracker=botsort.yaml, save_dir=runs\\detect\\train26\n",
      "Overriding model.yaml nc=80 with nc=2\n",
      "\n",
      "                   from  n    params  module                                       arguments                     \n",
      "  0                  -1  1       464  ultralytics.nn.modules.conv.Conv             [3, 16, 3, 2]                 \n",
      "  1                  -1  1      4672  ultralytics.nn.modules.conv.Conv             [16, 32, 3, 2]                \n",
      "  2                  -1  1      6640  ultralytics.nn.modules.block.C3k2            [32, 64, 1, False, 0.25]      \n",
      "  3                  -1  1     36992  ultralytics.nn.modules.conv.Conv             [64, 64, 3, 2]                \n",
      "  4                  -1  1     26080  ultralytics.nn.modules.block.C3k2            [64, 128, 1, False, 0.25]     \n",
      "  5                  -1  1    147712  ultralytics.nn.modules.conv.Conv             [128, 128, 3, 2]              \n",
      "  6                  -1  1     87040  ultralytics.nn.modules.block.C3k2            [128, 128, 1, True]           \n",
      "  7                  -1  1    295424  ultralytics.nn.modules.conv.Conv             [128, 256, 3, 2]              \n",
      "  8                  -1  1    346112  ultralytics.nn.modules.block.C3k2            [256, 256, 1, True]           \n",
      "  9                  -1  1    164608  ultralytics.nn.modules.block.SPPF            [256, 256, 5]                 \n",
      " 10                  -1  1    249728  ultralytics.nn.modules.block.C2PSA           [256, 256, 1]                 \n",
      " 11                  -1  1         0  torch.nn.modules.upsampling.Upsample         [None, 2, 'nearest']          \n",
      " 12             [-1, 6]  1         0  ultralytics.nn.modules.conv.Concat           [1]                           \n",
      " 13                  -1  1    111296  ultralytics.nn.modules.block.C3k2            [384, 128, 1, False]          \n",
      " 14                  -1  1         0  torch.nn.modules.upsampling.Upsample         [None, 2, 'nearest']          \n",
      " 15             [-1, 4]  1         0  ultralytics.nn.modules.conv.Concat           [1]                           \n",
      " 16                  -1  1     32096  ultralytics.nn.modules.block.C3k2            [256, 64, 1, False]           \n",
      " 17                  -1  1     36992  ultralytics.nn.modules.conv.Conv             [64, 64, 3, 2]                \n",
      " 18            [-1, 13]  1         0  ultralytics.nn.modules.conv.Concat           [1]                           \n",
      " 19                  -1  1     86720  ultralytics.nn.modules.block.C3k2            [192, 128, 1, False]          \n",
      " 20                  -1  1    147712  ultralytics.nn.modules.conv.Conv             [128, 128, 3, 2]              \n",
      " 21            [-1, 10]  1         0  ultralytics.nn.modules.conv.Concat           [1]                           \n",
      " 22                  -1  1    378880  ultralytics.nn.modules.block.C3k2            [384, 256, 1, True]           \n",
      " 23        [16, 19, 22]  1    431062  ultralytics.nn.modules.head.Detect           [2, [64, 128, 256]]           \n",
      "YOLO11n summary: 181 layers, 2,590,230 parameters, 2,590,214 gradients, 6.4 GFLOPs\n",
      "\n",
      "Transferred 448/499 items from pretrained weights\n",
      "Freezing layer 'model.23.dfl.conv.weight'\n"
     ]
    },
    {
     "name": "stderr",
     "output_type": "stream",
     "text": [
      "\u001b[34m\u001b[1mtrain: \u001b[0mScanning C:\\Users\\Aman.DESKTOP-VEB4T1B\\OneDrive\\Documents\\Rutgers\\Capstone\\ece-capstone\\ML Model\\dataset\\train\\labels... 227 images, 0 backgrounds, 0 corrupt: 100%|██████████| 227/227 [00:00<00:00, 281.60it/s]\n"
     ]
    },
    {
     "name": "stdout",
     "output_type": "stream",
     "text": [
      "\u001b[34m\u001b[1mtrain: \u001b[0mNew cache created: C:\\Users\\Aman.DESKTOP-VEB4T1B\\OneDrive\\Documents\\Rutgers\\Capstone\\ece-capstone\\ML Model\\dataset\\train\\labels.cache\n"
     ]
    },
    {
     "name": "stderr",
     "output_type": "stream",
     "text": [
      "\u001b[34m\u001b[1mval: \u001b[0mScanning C:\\Users\\Aman.DESKTOP-VEB4T1B\\OneDrive\\Documents\\Rutgers\\Capstone\\ece-capstone\\ML Model\\dataset\\val\\labels... 112 images, 0 backgrounds, 0 corrupt: 100%|██████████| 112/112 [00:00<00:00, 461.73it/s]"
     ]
    },
    {
     "name": "stdout",
     "output_type": "stream",
     "text": [
      "\u001b[34m\u001b[1mval: \u001b[0mNew cache created: C:\\Users\\Aman.DESKTOP-VEB4T1B\\OneDrive\\Documents\\Rutgers\\Capstone\\ece-capstone\\ML Model\\dataset\\val\\labels.cache\n"
     ]
    },
    {
     "name": "stderr",
     "output_type": "stream",
     "text": [
      "\n"
     ]
    },
    {
     "name": "stdout",
     "output_type": "stream",
     "text": [
      "Plotting labels to runs\\detect\\train26\\labels.jpg... \n",
      "\u001b[34m\u001b[1moptimizer:\u001b[0m Adam(lr=0.01, momentum=0.937) with parameter groups 81 weight(decay=0.0), 88 weight(decay=0.0005), 87 bias(decay=0.0)\n",
      "Image sizes 640 train, 640 val\n",
      "Using 0 dataloader workers\n",
      "Logging results to \u001b[1mruns\\detect\\train26\u001b[0m\n",
      "Starting training for 5 epochs...\n",
      "\n",
      "      Epoch    GPU_mem   box_loss   cls_loss   dfl_loss  Instances       Size\n"
     ]
    },
    {
     "name": "stderr",
     "output_type": "stream",
     "text": [
      "        1/5         0G      2.212      2.682      1.733        158        640: 100%|██████████| 15/15 [01:42<00:00,  6.82s/it]\n",
      "                 Class     Images  Instances      Box(P          R      mAP50  mAP50-95):   0%|          | 0/4 [00:00<?, ?it/s]"
     ]
    },
    {
     "name": "stdout",
     "output_type": "stream",
     "text": [
      "WARNING  NMS time limit 3.600s exceeded\n"
     ]
    },
    {
     "name": "stderr",
     "output_type": "stream",
     "text": [
      "                 Class     Images  Instances      Box(P          R      mAP50  mAP50-95):  25%|██▌       | 1/4 [00:09<00:27,  9.20s/it]"
     ]
    },
    {
     "name": "stdout",
     "output_type": "stream",
     "text": [
      "WARNING  NMS time limit 3.600s exceeded\n"
     ]
    },
    {
     "name": "stderr",
     "output_type": "stream",
     "text": [
      "                 Class     Images  Instances      Box(P          R      mAP50  mAP50-95):  50%|█████     | 2/4 [00:18<00:18,  9.11s/it]"
     ]
    },
    {
     "name": "stdout",
     "output_type": "stream",
     "text": [
      "WARNING  NMS time limit 3.600s exceeded\n"
     ]
    },
    {
     "name": "stderr",
     "output_type": "stream",
     "text": [
      "                 Class     Images  Instances      Box(P          R      mAP50  mAP50-95):  75%|███████▌  | 3/4 [00:27<00:09,  9.17s/it]"
     ]
    },
    {
     "name": "stdout",
     "output_type": "stream",
     "text": [
      "WARNING  NMS time limit 2.800s exceeded\n"
     ]
    },
    {
     "name": "stderr",
     "output_type": "stream",
     "text": [
      "                 Class     Images  Instances      Box(P          R      mAP50  mAP50-95): 100%|██████████| 4/4 [00:33<00:00,  8.26s/it]"
     ]
    },
    {
     "name": "stdout",
     "output_type": "stream",
     "text": [
      "                   all        112       3387     0.0108     0.0642    0.00772    0.00213\n"
     ]
    },
    {
     "name": "stderr",
     "output_type": "stream",
     "text": [
      "\n"
     ]
    },
    {
     "name": "stdout",
     "output_type": "stream",
     "text": [
      "\n",
      "      Epoch    GPU_mem   box_loss   cls_loss   dfl_loss  Instances       Size\n"
     ]
    },
    {
     "name": "stderr",
     "output_type": "stream",
     "text": [
      "        2/5         0G      2.148      2.141      1.715        220        640: 100%|██████████| 15/15 [02:03<00:00,  8.22s/it]\n",
      "                 Class     Images  Instances      Box(P          R      mAP50  mAP50-95):   0%|          | 0/4 [00:00<?, ?it/s]"
     ]
    },
    {
     "name": "stdout",
     "output_type": "stream",
     "text": [
      "WARNING  NMS time limit 3.600s exceeded\n"
     ]
    },
    {
     "name": "stderr",
     "output_type": "stream",
     "text": [
      "                 Class     Images  Instances      Box(P          R      mAP50  mAP50-95):  25%|██▌       | 1/4 [00:10<00:30, 10.28s/it]"
     ]
    },
    {
     "name": "stdout",
     "output_type": "stream",
     "text": [
      "WARNING  NMS time limit 3.600s exceeded\n"
     ]
    },
    {
     "name": "stderr",
     "output_type": "stream",
     "text": [
      "                 Class     Images  Instances      Box(P          R      mAP50  mAP50-95):  50%|█████     | 2/4 [00:19<00:19,  9.79s/it]"
     ]
    },
    {
     "name": "stdout",
     "output_type": "stream",
     "text": [
      "WARNING  NMS time limit 3.600s exceeded\n"
     ]
    },
    {
     "name": "stderr",
     "output_type": "stream",
     "text": [
      "                 Class     Images  Instances      Box(P          R      mAP50  mAP50-95):  75%|███████▌  | 3/4 [00:29<00:09,  9.66s/it]"
     ]
    },
    {
     "name": "stdout",
     "output_type": "stream",
     "text": [
      "WARNING  NMS time limit 2.800s exceeded\n"
     ]
    },
    {
     "name": "stderr",
     "output_type": "stream",
     "text": [
      "                 Class     Images  Instances      Box(P          R      mAP50  mAP50-95): 100%|██████████| 4/4 [00:35<00:00,  8.75s/it]"
     ]
    },
    {
     "name": "stdout",
     "output_type": "stream",
     "text": [
      "                   all        112       3387    0.00782     0.0123    0.00405    0.00107\n"
     ]
    },
    {
     "name": "stderr",
     "output_type": "stream",
     "text": [
      "\n"
     ]
    },
    {
     "name": "stdout",
     "output_type": "stream",
     "text": [
      "\n",
      "      Epoch    GPU_mem   box_loss   cls_loss   dfl_loss  Instances       Size\n"
     ]
    },
    {
     "name": "stderr",
     "output_type": "stream",
     "text": [
      "        3/5         0G      2.134      1.926      1.703        236        640: 100%|██████████| 15/15 [01:39<00:00,  6.63s/it]\n",
      "                 Class     Images  Instances      Box(P          R      mAP50  mAP50-95):   0%|          | 0/4 [00:00<?, ?it/s]"
     ]
    },
    {
     "name": "stdout",
     "output_type": "stream",
     "text": [
      "WARNING  NMS time limit 3.600s exceeded\n"
     ]
    },
    {
     "name": "stderr",
     "output_type": "stream",
     "text": [
      "                 Class     Images  Instances      Box(P          R      mAP50  mAP50-95):  25%|██▌       | 1/4 [00:08<00:25,  8.55s/it]"
     ]
    },
    {
     "name": "stdout",
     "output_type": "stream",
     "text": [
      "WARNING  NMS time limit 3.600s exceeded\n"
     ]
    },
    {
     "name": "stderr",
     "output_type": "stream",
     "text": [
      "                 Class     Images  Instances      Box(P          R      mAP50  mAP50-95):  50%|█████     | 2/4 [00:17<00:17,  9.00s/it]"
     ]
    },
    {
     "name": "stdout",
     "output_type": "stream",
     "text": [
      "WARNING  NMS time limit 3.600s exceeded\n"
     ]
    },
    {
     "name": "stderr",
     "output_type": "stream",
     "text": [
      "                 Class     Images  Instances      Box(P          R      mAP50  mAP50-95):  75%|███████▌  | 3/4 [00:27<00:09,  9.30s/it]"
     ]
    },
    {
     "name": "stdout",
     "output_type": "stream",
     "text": [
      "WARNING  NMS time limit 2.800s exceeded\n"
     ]
    },
    {
     "name": "stderr",
     "output_type": "stream",
     "text": [
      "                 Class     Images  Instances      Box(P          R      mAP50  mAP50-95): 100%|██████████| 4/4 [00:33<00:00,  8.36s/it]"
     ]
    },
    {
     "name": "stdout",
     "output_type": "stream",
     "text": [
      "                   all        112       3387     0.0409     0.0335     0.0142    0.00504\n"
     ]
    },
    {
     "name": "stderr",
     "output_type": "stream",
     "text": [
      "\n"
     ]
    },
    {
     "name": "stdout",
     "output_type": "stream",
     "text": [
      "\n",
      "      Epoch    GPU_mem   box_loss   cls_loss   dfl_loss  Instances       Size\n"
     ]
    },
    {
     "name": "stderr",
     "output_type": "stream",
     "text": [
      "        4/5         0G       2.02      1.777      1.644        136        640: 100%|██████████| 15/15 [01:42<00:00,  6.83s/it]\n",
      "                 Class     Images  Instances      Box(P          R      mAP50  mAP50-95):   0%|          | 0/4 [00:00<?, ?it/s]"
     ]
    },
    {
     "name": "stdout",
     "output_type": "stream",
     "text": [
      "WARNING  NMS time limit 3.600s exceeded\n"
     ]
    },
    {
     "name": "stderr",
     "output_type": "stream",
     "text": [
      "                 Class     Images  Instances      Box(P          R      mAP50  mAP50-95):  25%|██▌       | 1/4 [00:10<00:30, 10.03s/it]"
     ]
    },
    {
     "name": "stdout",
     "output_type": "stream",
     "text": [
      "WARNING  NMS time limit 3.600s exceeded\n"
     ]
    },
    {
     "name": "stderr",
     "output_type": "stream",
     "text": [
      "                 Class     Images  Instances      Box(P          R      mAP50  mAP50-95):  50%|█████     | 2/4 [00:19<00:19,  9.80s/it]"
     ]
    },
    {
     "name": "stdout",
     "output_type": "stream",
     "text": [
      "WARNING  NMS time limit 3.600s exceeded\n"
     ]
    },
    {
     "name": "stderr",
     "output_type": "stream",
     "text": [
      "                 Class     Images  Instances      Box(P          R      mAP50  mAP50-95):  75%|███████▌  | 3/4 [00:29<00:09,  9.99s/it]"
     ]
    },
    {
     "name": "stdout",
     "output_type": "stream",
     "text": [
      "WARNING  NMS time limit 2.800s exceeded\n"
     ]
    },
    {
     "name": "stderr",
     "output_type": "stream",
     "text": [
      "                 Class     Images  Instances      Box(P          R      mAP50  mAP50-95): 100%|██████████| 4/4 [00:35<00:00,  8.94s/it]"
     ]
    },
    {
     "name": "stdout",
     "output_type": "stream",
     "text": [
      "                   all        112       3387      0.348     0.0707     0.0757     0.0276\n"
     ]
    },
    {
     "name": "stderr",
     "output_type": "stream",
     "text": [
      "\n"
     ]
    },
    {
     "name": "stdout",
     "output_type": "stream",
     "text": [
      "\n",
      "      Epoch    GPU_mem   box_loss   cls_loss   dfl_loss  Instances       Size\n"
     ]
    },
    {
     "name": "stderr",
     "output_type": "stream",
     "text": [
      "        5/5         0G      1.922      1.663      1.563         70        640: 100%|██████████| 15/15 [01:53<00:00,  7.60s/it]\n",
      "                 Class     Images  Instances      Box(P          R      mAP50  mAP50-95):   0%|          | 0/4 [00:00<?, ?it/s]"
     ]
    },
    {
     "name": "stdout",
     "output_type": "stream",
     "text": [
      "WARNING  NMS time limit 3.600s exceeded\n"
     ]
    },
    {
     "name": "stderr",
     "output_type": "stream",
     "text": [
      "                 Class     Images  Instances      Box(P          R      mAP50  mAP50-95):  25%|██▌       | 1/4 [00:09<00:27,  9.08s/it]"
     ]
    },
    {
     "name": "stdout",
     "output_type": "stream",
     "text": [
      "WARNING  NMS time limit 3.600s exceeded\n"
     ]
    },
    {
     "name": "stderr",
     "output_type": "stream",
     "text": [
      "                 Class     Images  Instances      Box(P          R      mAP50  mAP50-95):  50%|█████     | 2/4 [00:18<00:19,  9.52s/it]"
     ]
    },
    {
     "name": "stdout",
     "output_type": "stream",
     "text": [
      "WARNING  NMS time limit 3.600s exceeded\n"
     ]
    },
    {
     "name": "stderr",
     "output_type": "stream",
     "text": [
      "                 Class     Images  Instances      Box(P          R      mAP50  mAP50-95):  75%|███████▌  | 3/4 [00:28<00:09,  9.45s/it]"
     ]
    },
    {
     "name": "stdout",
     "output_type": "stream",
     "text": [
      "WARNING  NMS time limit 2.800s exceeded\n"
     ]
    },
    {
     "name": "stderr",
     "output_type": "stream",
     "text": [
      "                 Class     Images  Instances      Box(P          R      mAP50  mAP50-95): 100%|██████████| 4/4 [00:33<00:00,  8.47s/it]"
     ]
    },
    {
     "name": "stdout",
     "output_type": "stream",
     "text": [
      "                   all        112       3387      0.495      0.154      0.166     0.0737\n"
     ]
    },
    {
     "name": "stderr",
     "output_type": "stream",
     "text": [
      "\n"
     ]
    },
    {
     "name": "stdout",
     "output_type": "stream",
     "text": [
      "\n",
      "5 epochs completed in 0.199 hours.\n",
      "Optimizer stripped from runs\\detect\\train26\\weights\\last.pt, 5.5MB\n",
      "Optimizer stripped from runs\\detect\\train26\\weights\\best.pt, 5.5MB\n",
      "\n",
      "Validating runs\\detect\\train26\\weights\\best.pt...\n",
      "Ultralytics 8.3.81  Python-3.13.2 torch-2.6.0+cpu CPU (Intel Core(TM) i7-8700K 3.70GHz)\n",
      "YOLO11n summary (fused): 100 layers, 2,582,542 parameters, 0 gradients, 6.3 GFLOPs\n"
     ]
    },
    {
     "name": "stderr",
     "output_type": "stream",
     "text": [
      "                 Class     Images  Instances      Box(P          R      mAP50  mAP50-95):   0%|          | 0/4 [00:00<?, ?it/s]"
     ]
    },
    {
     "name": "stdout",
     "output_type": "stream",
     "text": [
      "WARNING  NMS time limit 3.600s exceeded\n"
     ]
    },
    {
     "name": "stderr",
     "output_type": "stream",
     "text": [
      "                 Class     Images  Instances      Box(P          R      mAP50  mAP50-95):  25%|██▌       | 1/4 [00:07<00:22,  7.36s/it]"
     ]
    },
    {
     "name": "stdout",
     "output_type": "stream",
     "text": [
      "WARNING  NMS time limit 3.600s exceeded\n"
     ]
    },
    {
     "name": "stderr",
     "output_type": "stream",
     "text": [
      "                 Class     Images  Instances      Box(P          R      mAP50  mAP50-95):  50%|█████     | 2/4 [00:15<00:15,  7.64s/it]"
     ]
    },
    {
     "name": "stdout",
     "output_type": "stream",
     "text": [
      "WARNING  NMS time limit 3.600s exceeded\n"
     ]
    },
    {
     "name": "stderr",
     "output_type": "stream",
     "text": [
      "                 Class     Images  Instances      Box(P          R      mAP50  mAP50-95):  75%|███████▌  | 3/4 [00:23<00:07,  7.77s/it]"
     ]
    },
    {
     "name": "stdout",
     "output_type": "stream",
     "text": [
      "WARNING  NMS time limit 2.800s exceeded\n"
     ]
    },
    {
     "name": "stderr",
     "output_type": "stream",
     "text": [
      "                 Class     Images  Instances      Box(P          R      mAP50  mAP50-95): 100%|██████████| 4/4 [00:28<00:00,  7.09s/it]\n"
     ]
    },
    {
     "name": "stdout",
     "output_type": "stream",
     "text": [
      "                   all        112       3387      0.503      0.146      0.158     0.0703\n",
      "                   car        112       1760       0.34      0.257      0.227     0.0969\n",
      "                 empty        104       1627      0.666     0.0356     0.0889     0.0438\n",
      "Speed: 1.7ms preprocess, 64.8ms inference, 0.0ms loss, 127.4ms postprocess per image\n",
      "Results saved to \u001b[1mruns\\detect\\train26\u001b[0m\n"
     ]
    }
   ],
   "source": [
    "# Load model\n",
    "model = YOLO(\"yolo11n.pt\")\n",
    "\n",
    "# Train model\n",
    "results = model.train(\n",
    "    data=data_yaml, \n",
    "    epochs=5, \n",
    "    imgsz=640,\n",
    "    batch=16,\n",
    "    optimizer='Adam'\n",
    ")\n",
    "\n",
    "# Change path in C:\\Users\\[user]\\AppData\\Roaming\\Ultralytics\\settings.json to where the \"ML Model\" folder is stored on your computer"
   ]
  },
  {
   "cell_type": "code",
   "execution_count": 7,
   "id": "1c6163bb-a861-40d6-a901-77f1dd669660",
   "metadata": {},
   "outputs": [
    {
     "name": "stdout",
     "output_type": "stream",
     "text": [
      "Processing GOPR6785.JPG | Shape: (3000, 4000, 3)\n",
      "Label contents for GOPR6785.JPG:\n",
      "['1 0.5597005 0.8970408333333333 0.2990000000000001 0.2470566666666667\\n', '1 0.4495755 0.7807766666666667 0.27150000000000013 0.31599999999999995\\n', '0 0.3844505 0.6562766666666666 0.23950000000000005 0.2559999999999999\\n', '1 0.3019505 0.46638783333333333 0.17516675 0.1657776666666666\\n', '1 0.33657549999999997 0.55011 0.20599999999999996 0.21266666666666667\\n', '0 0.2764921875 0.4035545833333333 0.1531665 0.13333333333333341\\n', '1 0.2586171875 0.35572116666666664 0.12983324999999996 0.10511100000000001\\n', '1 0.24595050000000002 0.32144341666666665 0.11833325 0.08955566666666664\\n', '1 0.23486718750000002 0.2907766666666667 0.10716675000000003 0.08133333333333331\\n', '1 0.1544088125 0.8337211666666666 0.18133325 0.2577776666666667\\n', '1 0.129388 0.7062768333333334 0.1510835 0.2182223333333333\\n', '1 0.11765875 0.6035823333333333 0.12975 0.19066666666666654\\n', '1 0.11209625 0.5235823333333334 0.1175 0.15766666666666662\\n', '1 0.11040875 0.4608323333333334 0.10625 0.135\\n', '1 0.11015875 0.41133233333333336 0.09724999999999999 0.11133333333333334\\n', '1 0.947377125 0.676347 0.09083324999999998 0.20733333333333337\\n', '1 0.8871688125 0.5999025833333334 0.10350000000000004 0.18999999999999995\\n', '1 0.8229188125 0.5252914166666667 0.11883350000000004 0.171778\\n', '1 0.7577521875 0.45551366666666665 0.12650000000000006 0.1437776666666667\\n', '1 0.6955855 0.39362475 0.13266674999999994 0.12244433333333332\\n', '1 0.6388355625 0.34073583333333335 0.12783325000000012 0.09755566666666665\\n', '0 0.588168875 0.29806916666666666 0.12749999999999995 0.07844466666666666\\n', '0 0.544377125 0.2637359166666667 0.12050000000000005 0.06577766666666668\\n', '1 0.5066688125000001 0.23501366666666668 0.11333325000000005 0.05711099999999997\\n', '1 0.4739188125 0.2119025 0.10283349999999997 0.04977799999999999\\n', '1 0.4467938125 0.19262475 0.09616674999999997 0.04422200000000004\\n', '1 0.9754714375 0.528904 0.05370474999999997 0.1316666666666666\\n', '1 0.92767025 0.47382066666666667 0.06424999999999992 0.11633333333333329\\n', '1 0.87642025 0.41973733333333335 0.07750000000000001 0.10499999999999998\\n', '1 0.8248577500000001 0.368904 0.08125000000000004 0.08866666666666667\\n']\n"
     ]
    },
    {
     "data": {
      "text/plain": [
       "<Figure size 1000x1000 with 1 Axes>"
      ]
     },
     "metadata": {},
     "output_type": "display_data"
    },
    {
     "name": "stdout",
     "output_type": "stream",
     "text": [
      "Processing GOPR6578.JPG | Shape: (3000, 4000, 3)\n",
      "Label contents for GOPR6578.JPG:\n",
      "['0 0.3822455 0.30256758333333333 0.06733325000000007 0.055999999999999994\\n', '0 0.447578875 0.30645649999999997 0.05399999999999999 0.05511100000000002\\n', '0 0.5094955624999999 0.31156758333333334 0.05066675000000004 0.05066666666666664\\n', '0 0.5757871875 0.31778991666666667 0.04766674999999998 0.053332999999999964\\n', '0 0.6264954375 0.3257899166666667 0.05233325000000011 0.05111133333333334\\n', '0 0.6781621875 0.33412316666666664 0.06133325000000012 0.05066666666666664\\n', '0 0.7248385625 0.3434895 0.06575000000000009 0.06\\n', '0 0.25112525 0.6635545833333333 0.14621225000000004 0.2414139999999999\\n', '0 0.370064625 0.6822414166666666 0.11287874999999997 0.2585856666666666\\n', '0 0.5191176875 0.6645646666666667 0.11590924999999996 0.2707069999999999\\n', '0 0.6499888125 0.6496655833333334 0.13484849999999993 0.2494953333333334\\n', '0 0.7545335 0.6475336666666667 0.12449999999999994 0.21200000000000008\\n', '0 0.956241875 0.5208115833333333 0.07299999999999995 0.09244433333333335\\n', '1 0.9344919375 0.5248115833333333 0.07649974999999998 0.09622200000000003\\n', '1 0.90895025 0.5292560000000001 0.07850000000000001 0.099111\\n', '1 0.876533625 0.5333115833333333 0.08016650000000003 0.10199966666666666\\n', '0 0.7646795 0.35289499999999996 0.06899999999999995 0.063\\n', '0 0.7984085 0.35889499999999996 0.07024999999999992 0.061\\n', '0 0.335471 0.28756166666666666 0.06274999999999997 0.05399999999999999\\n', '0 0.157779 0.633744 0.151 0.22199999999999998\\n', '0 0.2323415 0.2654106666666667 0.07325000000000001 0.044999999999999984\\n', '0 0.19918524999999998 0.262494 0.07012499999999999 0.043333333333333335\\n', '1 0.8262285 0.6290656666666666 0.11750000000000005 0.19533333333333336\\n']\n"
     ]
    },
    {
     "data": {
      "text/plain": [
       "<Figure size 1000x1000 with 1 Axes>"
      ]
     },
     "metadata": {},
     "output_type": "display_data"
    },
    {
     "name": "stdout",
     "output_type": "stream",
     "text": [
      "Processing GOPR6788.JPG | Shape: (3000, 4000, 3)\n",
      "Label contents for GOPR6788.JPG:\n",
      "['0 0.36858674999999996 0.8828805833333333 0.257 0.2652703333333334\\n', '0 0.26883675 0.7927296666666666 0.22549999999999998 0.31799999999999995\\n', '1 0.20933675 0.696563 0.18750000000000003 0.2553333333333332\\n', '0 0.16458674999999998 0.6126463333333334 0.16599999999999998 0.22933333333333328\\n', '0 0.1334825 0.544313 0.133 0.16866666666666674\\n', '1 0.11473249999999999 0.5011463333333334 0.11725 0.1403333333333333\\n', '1 0.10085749999999999 0.466563 0.10474999999999998 0.12699999999999995\\n', '0 0.089795 0.43697966666666666 0.09299999999999999 0.10733333333333334\\n', '1 0.0818575 0.413563 0.086 0.09133333333333332\\n', '1 0.07492 0.39439633333333335 0.07874999999999999 0.08400000000000002\\n', '0 0.85468875 0.5870175833333333 0.10233325000000004 0.204889\\n', '0 0.7720221875 0.53318425 0.11766674999999993 0.18977766666666668\\n', '0 0.6903555 0.48140641666666667 0.128 0.172\\n', '1 0.6110221875 0.43562866666666666 0.14 0.15022200000000002\\n', '1 0.5393555 0.3955175833333333 0.13866674999999995 0.12755566666666662\\n', '0 0.4762721875 0.3620730833333333 0.13666674999999995 0.11111133333333334\\n', '0 0.422772125 0.3354065 0.12566675 0.09199966666666665\\n', '1 0.3782721875 0.31351758333333335 0.11666674999999999 0.08400000000000002\\n', '0 0.3412305 0.29712866666666665 0.10550025000000002 0.07288866666666666\\n', '1 0.3116888125 0.2835175833333333 0.09883325000000004 0.06644433333333333\\n', '0 0.2853555 0.27268416666666667 0.09216674999999999 0.058666666666666645\\n', '0 0.86302225 0.42196199999999995 0.07050000000000001 0.12033333333333335\\n', '1 0.80152225 0.384712 0.06700000000000006 0.09999999999999998\\n', '0 0.7405222499999999 0.35162866666666664 0.08599999999999997 0.09566666666666668\\n', '0 0.67739725 0.319462 0.09224999999999994 0.08466666666666667\\n', '1 0.61945975 0.293212 0.09375 0.06966666666666665\\n', '0 0.5657097499999999 0.27137866666666666 0.10124999999999995 0.06333333333333332\\n', '1 0.51695975 0.25412866666666667 0.09525000000000006 0.05299999999999999\\n', '0 0.47339725 0.240462 0.09649999999999997 0.046333333333333365\\n', '1 0.43414725 0.22904533333333332 0.08775000000000005 0.04033333333333333\\n', '0 0.39902224999999997 0.22037866666666667 0.08274999999999999 0.03733333333333333\\n', '0 0.9045638125 0.314462 0.04233324999999999 0.065778\\n', '0 0.866022125 0.2913509166666667 0.0451665 0.06288900000000003\\n', '0 0.817438875 0.26523975 0.05783324999999995 0.060666666666666674\\n', '1 0.767897125 0.24079533333333333 0.05349999999999999 0.05111133333333334\\n', '0 0.8902825 0.24830933333333333 0.03412500000000007 0.03516666666666665\\n', '1 0.8601887500000001 0.23130933333333334 0.03649999999999998 0.033833333333333354\\n', '0 0.8275950000000001 0.21476766666666666 0.03399999999999992 0.03\\n', '0 0.79522 0.19930933333333334 0.034499999999999975 0.026666666666666672\\n', '1 0.76312625 0.18526766666666666 0.03650000000000009 0.023833333333333345\\n', '0 0.7314075 0.17230933333333334 0.040000000000000036 0.021999999999999992\\n', '1 0.70018875 0.16105933333333333 0.04162500000000002 0.01949999999999999\\n', '0 0.66597 0.15005933333333332 0.051000000000000045 0.01983333333333334\\n', '1 0.8960013125 0.2131565 0.0283334999999999 0.028999999999999998\\n', '1 0.871501375 0.19976758333333333 0.027166500000000093 0.027666666666666673\\n', '1 0.8466888125 0.18679525000000002 0.02566674999999996 0.02622233333333332\\n', '1 0.820918 0.17432308333333332 0.028166499999999983 0.02522233333333332\\n', '1 0.7951888125000001 0.16248975 0.02666674999999996 0.02111100000000002\\n', '0 0.7697721875 0.15182308333333333 0.030666749999999965 0.01977799999999999\\n', '1 0.7456888125 0.14298975 0.027500250000000004 0.01622233333333334\\n', '0 0.6610064999999999 0.19762000000000002 0.06062499999999993 0.03666666666666668\\n', '1 0.61872525 0.18387 0.07150000000000001 0.03583333333333333\\n', '1 0.57847525 0.17212 0.06562499999999993 0.02983333333333335\\n', '1 0.54491275 0.16353666666666666 0.06549999999999989 0.026833333333333348\\n', '0 0.51403775 0.15637 0.06349999999999989 0.024833333333333346\\n', '1 0.48685025 0.15137 0.059749999999999914 0.02149999999999999\\n']\n"
     ]
    },
    {
     "data": {
      "text/plain": [
       "<Figure size 1000x1000 with 1 Axes>"
      ]
     },
     "metadata": {},
     "output_type": "display_data"
    },
    {
     "name": "stdout",
     "output_type": "stream",
     "text": [
      "Processing GOPR6603.JPG | Shape: (3000, 4000, 3)\n",
      "Label contents for GOPR6603.JPG:\n",
      "['1 0.13003299999999998 0.5165613333333333 0.09399999999999999 0.21866666666666668\\n', '1 0.205783 0.45289466666666667 0.11950000000000002 0.20666666666666672\\n', '0 0.286783 0.39089466666666667 0.13650000000000004 0.18133333333333335\\n', '0 0.365408 0.33700583333333334 0.14816675 0.15444433333333335\\n', '0 0.43649125 0.29156150000000003 0.15100000000000008 0.13155566666666668\\n', '0 0.499866375 0.25500591666666667 0.14949999999999997 0.11333366666666664\\n', '0 0.554408 0.22645033333333334 0.1395 0.096889\\n', '0 0.59986625 0.20508933333333335 0.13124999999999998 0.08500000000000002\\n', '1 0.1724109375 0.3187836666666667 0.07866675000000001 0.12266666666666665\\n', '1 0.112765 0.3645893333333333 0.0625 0.1353333333333333\\n', '0 0.2348275 0.2758393333333333 0.09150000000000003 0.10799999999999998\\n', '0 0.2957025 0.238006 0.09975000000000003 0.0933333333333333\\n', '1 0.3549525 0.20558933333333335 0.10949999999999999 0.07933333333333337\\n', '0 0.409238 0.17836833333333335 0.10424999999999995 0.07\\n', '1 0.644697 0.754026 0.2855419999999999 0.3943776666666666\\n', '1 0.7347732499999999 0.6254056666666667 0.236 0.324\\n', '1 0.7952732499999999 0.5246279166666666 0.19200000000000006 0.2577776666666666\\n', '1 0.83394 0.45112783333333334 0.15666649999999993 0.20311099999999999\\n', '1 0.8600442500000001 0.39835 0.13450000000000006 0.16833333333333333\\n', '0 0.63824925 0.187547 0.11550000000000005 0.07933333333333334\\n', '0 0.6689992499999999 0.17271366666666665 0.10899999999999999 0.0733333333333333\\n', '1 0.7531659375 0.14357491666666666 0.08966649999999987 0.053111333333333316\\n', '1 0.72774925 0.15251933333333334 0.10099999999999998 0.05866666666666666\\n', '0 0.055592749999999996 0.4144653333333333 0.058499999999999996 0.15066666666666667\\n', '0 0.90468675 0.29913233333333333 0.09349999999999992 0.10399999999999995\\n', '1 0.91324925 0.278299 0.08499999999999996 0.09066666666666667\\n', '1 0.8795755000000001 0.357218 0.11725000000000008 0.14100000000000001\\n', '1 0.6749505 0.09602358333333333 0.08583325000000008 0.03688900000000002\\n', '1 0.643242125 0.10196808333333333 0.09516675000000008 0.03888900000000001\\n', '1 0.150367125 0.20096808333333332 0.04749999999999999 0.062444333333333324\\n', '0 0.1928255 0.17424583333333335 0.05449999999999999 0.05488900000000002\\n', '0 0.2350754375 0.15007916666666665 0.059333250000000004 0.04866666666666669\\n', '0 0.27649218750000004 0.12852366666666667 0.06316675000000002 0.04333333333333332\\n', '0 0.316492125 0.11074583333333335 0.06683350000000005 0.03644433333333333\\n', '0 0.3525338125 0.09674583333333334 0.06483325000000001 0.02955533333333335\\n', '1 0.52536725 0.048065333333333335 0.07574999999999998 0.02316666666666667\\n', '1 0.560586 0.04231533333333333 0.076125 0.021833333333333337\\n', '1 0.0296171875 0.29424591666666666 0.04716674999999999 0.08288866666666667\\n', '1 0.0681171875 0.26135691666666666 0.044000250000000005 0.07644433333333331\\n', '0 0.1084505 0.22991250000000002 0.0435 0.06999999999999998\\n', '0 0.145263 0.16582933333333333 0.03887499999999999 0.04133333333333336\\n', '0 0.18073175 0.143871 0.041874999999999996 0.036500000000000005\\n', '0 0.2165755 0.123746 0.045625 0.03216666666666666\\n', '0 0.16730468750000002 0.10932925 0.033166749999999995 0.030333333333333337\\n', '0 0.1389505 0.12605141666666667 0.031166499999999986 0.03255566666666666\\n', '1 0.041533875 0.24352375000000004 0.03733349999999999 0.05399999999999999\\n', '0 0.07399212499999999 0.21746808333333334 0.0361665 0.05200000000000002\\n', '0 0.109242125 0.19041258333333333 0.037333249999999985 0.04733333333333334\\n', '0 0.2511476875 0.10614108333333333 0.04374999999999998 0.027888999999999997\\n']\n"
     ]
    },
    {
     "data": {
      "text/plain": [
       "<Figure size 1000x1000 with 1 Axes>"
      ]
     },
     "metadata": {},
     "output_type": "display_data"
    },
    {
     "name": "stdout",
     "output_type": "stream",
     "text": [
      "Processing GOPR6561.JPG | Shape: (3000, 4000, 3)\n",
      "Label contents for GOPR6561.JPG:\n",
      "['1 0.4701149375 0.77630975 0.2712500000000001 0.3533333333333333\\n', '1 0.3558954375 0.8778301666666667 0.2700625 0.27987933333333326\\n', '0 0.229258125 0.9396045 0.18854175000000004 0.1683743333333334\\n', '0 0.5617314375 0.65335325 0.25287224999999997 0.3159763333333334\\n', '0 0.6372576875 0.54593575 0.21801499999999996 0.2605136666666667\\n', '0 0.694306875 0.4610140833333333 0.18929000000000007 0.21029733333333334\\n', '1 0.0612844375 0.4888981666666667 0.08374999999999999 0.20861133333333326\\n', '0 0.1265005625 0.41910308333333335 0.10729175000000002 0.19306233333333345\\n', '0 0.19594587500000002 0.35247625 0.11927075000000004 0.16444466666666668\\n', '1 0.2616860625 0.29611008333333333 0.12746349999999998 0.1368056666666667\\n', '0 0.326270375 0.24742758333333334 0.14166674999999995 0.11803533333333335\\n', '0 0.0156766875 0.5422797500000001 0.04065225 0.19874999999999998\\n', '0 0.38803125 0.20596133333333333 0.140625 0.09633333333333333\\n', '1 0.4854608125 0.14952708333333334 0.1351667500000001 0.07422233333333335\\n', '1 0.4393098125 0.1748575 0.13383325000000001 0.08091666666666669\\n', '0 0.5272356874999999 0.12849575 0.1258539999999999 0.06375000000000001\\n', '1 0.5610455624999999 0.11251316666666666 0.11633324999999994 0.06000000000000001\\n', '0 0.58653825 0.1003135 0.10797299999999999 0.054908999999999986\\n']\n"
     ]
    },
    {
     "data": {
      "text/plain": [
       "<Figure size 1000x1000 with 1 Axes>"
      ]
     },
     "metadata": {},
     "output_type": "display_data"
    }
   ],
   "source": [
    "# Visualize sample images\n",
    "def visualize_samples(split, num=5):\n",
    "    img_dir = f\"dataset/{split}/images\"\n",
    "    label_dir = f\"dataset/{split}/labels\"\n",
    "\n",
    "    sample_images = random.sample(os.listdir(img_dir), num)\n",
    "    \n",
    "    for img_file in sample_images:\n",
    "        img_path = os.path.join(img_dir, img_file)\n",
    "        label_path = os.path.join(label_dir, img_file.replace(\".JPG\", \".txt\"))\n",
    "\n",
    "        if not os.path.exists(img_path) or not os.path.exists(label_path):\n",
    "            print(f\"Skipping {img_file}, missing label or image file!\")\n",
    "            continue\n",
    "\n",
    "        img = cv2.imread(img_path)\n",
    "        if img is None:\n",
    "            print(f\"Error: Could not load image {img_path}\")\n",
    "            continue\n",
    "        img = cv2.cvtColor(img, cv2.COLOR_BGR2RGB)\n",
    "\n",
    "        h_img, w_img, _ = img.shape\n",
    "        print(f\"Processing {img_file} | Shape: {img.shape}\")\n",
    "\n",
    "        with open(label_path, \"r\") as lf:\n",
    "            labels = lf.readlines()\n",
    "            print(f\"Label contents for {img_file}:\\n{labels}\")\n",
    "\n",
    "            for label in labels:\n",
    "                class_id, x, y, w, h = map(float, label.split())\n",
    "\n",
    "                # Convert YOLO format (normalized) to pixel coordinates\n",
    "                x1 = int((x - w / 2) * w_img)\n",
    "                y1 = int((y - h / 2) * h_img)\n",
    "                x2 = int((x + w / 2) * w_img)\n",
    "                y2 = int((y + h / 2) * h_img)\n",
    "\n",
    "                # Ensure box stays within image bounds\n",
    "                x1 = max(0, min(w_img, x1))\n",
    "                y1 = max(0, min(h_img, y1))\n",
    "                x2 = max(0, min(w_img, x2))\n",
    "                y2 = max(0, min(h_img, y2))\n",
    "\n",
    "                # Ignore tiny bounding boxes\n",
    "                min_box_size = 10  # Minimum pixels\n",
    "                if (x2 - x1) < min_box_size or (y2 - y1) < min_box_size:\n",
    "                    print(f\"Skipping small box: {x1, y1, x2, y2}\")\n",
    "                    continue\n",
    "\n",
    "                color = (255, 0, 0) if class_id == 0 else (0, 255, 0)\n",
    "                label_name = \"Car\" if class_id == 0 else \"Empty\"\n",
    "\n",
    "                cv2.rectangle(img, (x1, y1), (x2, y2), color, 2)\n",
    "                cv2.putText(img, label_name, (x1, y1 - 10), cv2.FONT_HERSHEY_SIMPLEX, 0.5, color, 2)\n",
    "\n",
    "        plt.figure(figsize=(10, 10))  # Enlarge plot size\n",
    "        plt.imshow(img)\n",
    "        plt.axis(\"off\")\n",
    "        plt.show(block=True)  # Ensure the image is displayed\n",
    "\n",
    "# Run and debug visualization\n",
    "visualize_samples(\"train\")"
   ]
  }
 ],
 "metadata": {
  "kernelspec": {
   "display_name": "Python 3",
   "language": "python",
   "name": "python3"
  },
  "language_info": {
   "codemirror_mode": {
    "name": "ipython",
    "version": 3
   },
   "file_extension": ".py",
   "mimetype": "text/x-python",
   "name": "python",
   "nbconvert_exporter": "python",
   "pygments_lexer": "ipython3",
   "version": "3.13.2"
  }
 },
 "nbformat": 4,
 "nbformat_minor": 5
}
